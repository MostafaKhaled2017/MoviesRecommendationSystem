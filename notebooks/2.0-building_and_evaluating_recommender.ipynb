{
 "cells": [
  {
   "cell_type": "code",
   "execution_count": 11,
   "metadata": {},
   "outputs": [
    {
     "name": "stdout",
     "output_type": "stream",
     "text": [
      "   user_id  item_id  rating  timestamp\n",
      "0        1        1       5  874965758\n",
      "1        1        2       3  876893171\n",
      "2        1        3       4  878542960\n",
      "3        1        4       3  876893119\n",
      "4        1        5       3  889751712\n",
      "   user_id  age gender  occupation zip_code\n",
      "0        1   24      M  technician    85711\n",
      "1        2   53      F       other    94043\n",
      "2        3   23      M      writer    32067\n",
      "3        4   24      M  technician    43537\n",
      "4        5   33      F       other    15213\n",
      "   movie_id              title release_date  video_release_date  \\\n",
      "0         1   Toy Story (1995)  01-Jan-1995                 NaN   \n",
      "1         2   GoldenEye (1995)  01-Jan-1995                 NaN   \n",
      "2         3  Four Rooms (1995)  01-Jan-1995                 NaN   \n",
      "3         4  Get Shorty (1995)  01-Jan-1995                 NaN   \n",
      "4         5     Copycat (1995)  01-Jan-1995                 NaN   \n",
      "\n",
      "                                            IMDB_URL  unknown  Action  \\\n",
      "0  http://us.imdb.com/M/title-exact?Toy%20Story%2...        0       0   \n",
      "1  http://us.imdb.com/M/title-exact?GoldenEye%20(...        0       1   \n",
      "2  http://us.imdb.com/M/title-exact?Four%20Rooms%...        0       0   \n",
      "3  http://us.imdb.com/M/title-exact?Get%20Shorty%...        0       1   \n",
      "4  http://us.imdb.com/M/title-exact?Copycat%20(1995)        0       0   \n",
      "\n",
      "   Adventure  Animation  Children  ...  Fantasy  Film-Noir  Horror  Musical  \\\n",
      "0          0          1         1  ...        0          0       0        0   \n",
      "1          1          0         0  ...        0          0       0        0   \n",
      "2          0          0         0  ...        0          0       0        0   \n",
      "3          0          0         0  ...        0          0       0        0   \n",
      "4          0          0         0  ...        0          0       0        0   \n",
      "\n",
      "   Mystery  Romance  Sci-Fi  Thriller  War  Western  \n",
      "0        0        0       0         0    0        0  \n",
      "1        0        0       0         1    0        0  \n",
      "2        0        0       0         1    0        0  \n",
      "3        0        0       0         0    0        0  \n",
      "4        0        0       0         1    0        0  \n",
      "\n",
      "[5 rows x 24 columns]\n"
     ]
    }
   ],
   "source": [
    "import pandas as pd\n",
    "from sklearn.feature_extraction.text import TfidfVectorizer\n",
    "from sklearn.metrics.pairwise import linear_kernel\n",
    "\n",
    "# Load the datasets\n",
    "columns_u_data = ['user_id', 'item_id', 'rating', 'timestamp']\n",
    "u_data = pd.read_csv('../data/raw/ml-100k/u1.base', sep='\\t', names=columns_u_data)\n",
    "\n",
    "columns_u_user = ['user_id', 'age', 'gender', 'occupation', 'zip_code']\n",
    "u_user = pd.read_csv('../data/raw/ml-100k/u.user', sep='|', names=columns_u_user)\n",
    "\n",
    "columns_u_item = ['movie_id', 'title', 'release_date', 'video_release_date', 'IMDB_URL',\n",
    "                  'unknown', 'Action', 'Adventure', 'Animation', 'Children', 'Comedy',\n",
    "                  'Crime', 'Documentary', 'Drama', 'Fantasy', 'Film-Noir', 'Horror',\n",
    "                  'Musical', 'Mystery', 'Romance', 'Sci-Fi', 'Thriller', 'War', 'Western']\n",
    "u_item = pd.read_csv('../data/raw/ml-100k/u.item', sep='|', names=columns_u_item, encoding='latin-1')\n",
    "\n",
    "print(u_data.head())\n",
    "print(u_user.head())\n",
    "print(u_item.head())"
   ]
  },
  {
   "cell_type": "markdown",
   "metadata": {},
   "source": [
    "## 1. Recommending Movies Similar to Favorite Movies\n",
    "In this section, we will be working on recommending for the user movies similar to the movies he liked before. This type of recommendation is called \"Content Based Recommendation\" as we are recommending movies to the user according to the content they like regardless of the user information itself."
   ]
  },
  {
   "cell_type": "markdown",
   "metadata": {},
   "source": [
    "We will implement this using the following steps:\n",
    "1. Form a pivot table that contains the user ratings for each movie.\n",
    "2. Extract the user's ratings\n",
    "3. Compute the TF-IDF matrix for the movies\n",
    "4. Compute the cosine similarity\n",
    "5. Sort the movies based on similarity scores\n",
    "6. Get the top k movie recommendations"
   ]
  },
  {
   "cell_type": "code",
   "execution_count": 12,
   "metadata": {},
   "outputs": [
    {
     "name": "stdout",
     "output_type": "stream",
     "text": [
      "title    'Til There Was You (1997)  1-900 (1994)  101 Dalmatians (1996)  \\\n",
      "user_id                                                                   \n",
      "1                              0.0           0.0                    0.0   \n",
      "2                              0.0           0.0                    0.0   \n",
      "3                              0.0           0.0                    0.0   \n",
      "4                              0.0           0.0                    0.0   \n",
      "5                              0.0           0.0                    0.0   \n",
      "...                            ...           ...                    ...   \n",
      "939                            0.0           0.0                    0.0   \n",
      "940                            0.0           0.0                    0.0   \n",
      "941                            0.0           0.0                    0.0   \n",
      "942                            0.0           0.0                    0.0   \n",
      "943                            0.0           0.0                    0.0   \n",
      "\n",
      "title    12 Angry Men (1957)  187 (1997)  2 Days in the Valley (1996)  \\\n",
      "user_id                                                                 \n",
      "1                        5.0         0.0                          0.0   \n",
      "2                        0.0         0.0                          0.0   \n",
      "3                        0.0         0.0                          0.0   \n",
      "4                        0.0         0.0                          0.0   \n",
      "5                        0.0         0.0                          0.0   \n",
      "...                      ...         ...                          ...   \n",
      "939                      0.0         0.0                          0.0   \n",
      "940                      0.0         0.0                          0.0   \n",
      "941                      0.0         0.0                          0.0   \n",
      "942                      0.0         0.0                          0.0   \n",
      "943                      0.0         0.0                          2.0   \n",
      "\n",
      "title    20,000 Leagues Under the Sea (1954)  2001: A Space Odyssey (1968)  \\\n",
      "user_id                                                                      \n",
      "1                                        3.0                           4.0   \n",
      "2                                        0.0                           0.0   \n",
      "3                                        0.0                           0.0   \n",
      "4                                        0.0                           0.0   \n",
      "5                                        0.0                           4.0   \n",
      "...                                      ...                           ...   \n",
      "939                                      0.0                           0.0   \n",
      "940                                      0.0                           0.0   \n",
      "941                                      0.0                           0.0   \n",
      "942                                      0.0                           3.0   \n",
      "943                                      0.0                           0.0   \n",
      "\n",
      "title    3 Ninjas: High Noon At Mega Mountain (1998)  39 Steps, The (1935)  \\\n",
      "user_id                                                                      \n",
      "1                                                0.0                   0.0   \n",
      "2                                                0.0                   0.0   \n",
      "3                                                0.0                   0.0   \n",
      "4                                                0.0                   0.0   \n",
      "5                                                0.0                   0.0   \n",
      "...                                              ...                   ...   \n",
      "939                                              0.0                   0.0   \n",
      "940                                              0.0                   0.0   \n",
      "941                                              0.0                   0.0   \n",
      "942                                              0.0                   3.0   \n",
      "943                                              0.0                   0.0   \n",
      "\n",
      "title    ...  Wyatt Earp (1994)  Year of the Horse (1997)  \\\n",
      "user_id  ...                                                \n",
      "1        ...                0.0                       0.0   \n",
      "2        ...                0.0                       0.0   \n",
      "3        ...                0.0                       0.0   \n",
      "4        ...                0.0                       0.0   \n",
      "5        ...                0.0                       0.0   \n",
      "...      ...                ...                       ...   \n",
      "939      ...                0.0                       0.0   \n",
      "940      ...                0.0                       0.0   \n",
      "941      ...                0.0                       0.0   \n",
      "942      ...                0.0                       0.0   \n",
      "943      ...                1.0                       0.0   \n",
      "\n",
      "title    You So Crazy (1994)  Young Frankenstein (1974)  Young Guns (1988)  \\\n",
      "user_id                                                                      \n",
      "1                        0.0                        0.0                0.0   \n",
      "2                        0.0                        0.0                0.0   \n",
      "3                        0.0                        0.0                0.0   \n",
      "4                        0.0                        0.0                0.0   \n",
      "5                        0.0                        4.0                0.0   \n",
      "...                      ...                        ...                ...   \n",
      "939                      0.0                        0.0                0.0   \n",
      "940                      0.0                        0.0                0.0   \n",
      "941                      0.0                        0.0                0.0   \n",
      "942                      0.0                        0.0                0.0   \n",
      "943                      0.0                        0.0                4.0   \n",
      "\n",
      "title    Young Guns II (1990)  Young Poisoner's Handbook, The (1995)  \\\n",
      "user_id                                                                \n",
      "1                         0.0                                    0.0   \n",
      "2                         0.0                                    0.0   \n",
      "3                         0.0                                    0.0   \n",
      "4                         0.0                                    0.0   \n",
      "5                         0.0                                    0.0   \n",
      "...                       ...                                    ...   \n",
      "939                       0.0                                    0.0   \n",
      "940                       0.0                                    0.0   \n",
      "941                       0.0                                    0.0   \n",
      "942                       0.0                                    0.0   \n",
      "943                       3.0                                    0.0   \n",
      "\n",
      "title    Zeus and Roxanne (1997)  unknown  Á köldum klaka (Cold Fever) (1994)  \n",
      "user_id                                                                        \n",
      "1                            0.0      0.0                                 0.0  \n",
      "2                            0.0      0.0                                 0.0  \n",
      "3                            0.0      0.0                                 0.0  \n",
      "4                            0.0      0.0                                 0.0  \n",
      "5                            0.0      0.0                                 0.0  \n",
      "...                          ...      ...                                 ...  \n",
      "939                          0.0      0.0                                 0.0  \n",
      "940                          0.0      0.0                                 0.0  \n",
      "941                          0.0      0.0                                 0.0  \n",
      "942                          0.0      0.0                                 0.0  \n",
      "943                          0.0      0.0                                 0.0  \n",
      "\n",
      "[943 rows x 1633 columns]\n"
     ]
    }
   ],
   "source": [
    "# Merge user data with movies data\n",
    "users_and_movies = pd.merge(u_data, u_item[['movie_id', 'title']], left_on='item_id', right_on='movie_id')\n",
    "\n",
    "# Create a user-item matrix with ratings\n",
    "user_item_movies = users_and_movies.pivot_table(index='user_id', columns='title', values='rating')\n",
    "\n",
    "# Fill NaN values with 0 (assuming no rating means a rating of 0)\n",
    "user_item_movies = user_item_movies.fillna(0)\n",
    "\n",
    "print(user_item_movies)"
   ]
  },
  {
   "cell_type": "code",
   "execution_count": 13,
   "metadata": {},
   "outputs": [],
   "source": [
    "from sklearn.metrics.pairwise import cosine_similarity\n",
    "\n",
    "def get_content_based_recommendations(userID, user_movies_matrix, top_k=5):\n",
    "    # Extract the user's ratings\n",
    "    user_ratings = user_movies_matrix.loc[userID]\n",
    "\n",
    "    # Create a text representation of the movies, weighted by the user's ratings\n",
    "    weighted_movies = []\n",
    "    for title, rating in user_ratings.items():\n",
    "        if rating > 0:\n",
    "            weighted_movies.extend([title] * int(rating * 2))  # Weighting by rating\n",
    "\n",
    "    #Compute the TF-IDF matrix for the movies\n",
    "    tfidf_vectorizer = TfidfVectorizer()\n",
    "    tfidf_matrix = tfidf_vectorizer.fit_transform(user_movies_matrix.columns)\n",
    "\n",
    "    # Transform the weighted movies list into a vector\n",
    "    user_profile_vector = tfidf_vectorizer.transform([\" \".join(weighted_movies)])\n",
    "\n",
    "    # Compute the cosine similarity\n",
    "    cosine_similarities = cosine_similarity(user_profile_vector, tfidf_matrix)\n",
    "\n",
    "    # Sort the movies based on similarity scores\n",
    "    similarity_scores = list(enumerate(cosine_similarities.flatten()))\n",
    "    similarity_scores = sorted(similarity_scores, key=lambda x: x[1], reverse=True)\n",
    "\n",
    "    # Get the top k movie recommendations\n",
    "    movie_indices = [x[0] for x in similarity_scores[:top_k]]\n",
    "    recommended_movies = [user_movies_matrix.columns[i] for i in movie_indices]\n",
    "\n",
    "    return recommended_movies\n"
   ]
  },
  {
   "cell_type": "code",
   "execution_count": 14,
   "metadata": {},
   "outputs": [
    {
     "name": "stdout",
     "output_type": "stream",
     "text": [
      "['Quick and the Dead, The (1995)', 'Man of the House (1995)', 'Run of the Country, The (1995)', 'Man of the Year (1995)', 'Show, The (1995)']\n"
     ]
    }
   ],
   "source": [
    "# Example\n",
    "userId = 1\n",
    "recommendations = get_content_based_recommendations(userId, user_item_movies)\n",
    "print(recommendations)"
   ]
  },
  {
   "cell_type": "markdown",
   "metadata": {},
   "source": [
    "## 2. Recommended movies based on user's demographic information\n",
    "In this section, we will be working on recommending for the users movies based on his demographic information such as their age, gender, and occupation.\n",
    "\n",
    "We will implement this using the following steps:\n",
    "1. Group users by demographics and calculate the average rating for each movie within each group.\n",
    "2. Find the demographic group of the target user.\n",
    "3. Recommend movies that are highly rated within that demographic group."
   ]
  },
  {
   "cell_type": "code",
   "execution_count": 15,
   "metadata": {},
   "outputs": [],
   "source": [
    "def get_demographic_based_recommendations(userID, user_movies_matrix, top_k=5):\n",
    "    # Merge the user demographic data with movie ratings\n",
    "    merged_data = pd.merge(u_user, user_movies_matrix, left_on='user_id', right_index=True)\n",
    "\n",
    "    # Group by demographics and calculate average ratings\n",
    "    grouped_data = merged_data.groupby(['age', 'gender', 'occupation', 'zip_code']).mean()\n",
    "\n",
    "    # Find the user's demographic group\n",
    "    user_demographics = u_user.loc[u_user['user_id'] == userID, ['age', 'gender', 'occupation', 'zip_code']]\n",
    "    if user_demographics.empty:\n",
    "        return []  # Return an empty list if user's demographic data is not found\n",
    "\n",
    "    # Extract the user's demographic information\n",
    "    age, gender, occupation, zip_code = user_demographics.iloc[0]\n",
    "\n",
    "    # Get the average ratings for this demographic group\n",
    "    try:\n",
    "        demographic_ratings = grouped_data.loc[age, gender, occupation, zip_code]\n",
    "    except KeyError:\n",
    "        return []  # Return an empty list if the demographic group is not found\n",
    "\n",
    "    # Sort movies by their average rating within the demographic group\n",
    "    recommended_movies = demographic_ratings.sort_values(ascending=False).head(top_k).index.tolist()\n",
    "\n",
    "    return recommended_movies"
   ]
  },
  {
   "cell_type": "code",
   "execution_count": 16,
   "metadata": {},
   "outputs": [
    {
     "name": "stdout",
     "output_type": "stream",
     "text": [
      "['Full Monty, The (1997)', 'Professional, The (1994)', 'Nikita (La Femme Nikita) (1990)', 'Graduate, The (1967)', 'Godfather, The (1972)']\n"
     ]
    }
   ],
   "source": [
    "# Example\n",
    "userId = 1\n",
    "recommendations = get_demographic_based_recommendations(userId, user_item_movies)\n",
    "print(recommendations)"
   ]
  },
  {
   "cell_type": "markdown",
   "metadata": {},
   "source": [
    "## 3. Merging the two recommendation systems"
   ]
  },
  {
   "cell_type": "markdown",
   "metadata": {},
   "source": [
    "In this section, we will be working on merging the two recommendation systems we have built in the previous sections. We will define the function that calls the previous two functions and merge the results."
   ]
  },
  {
   "cell_type": "code",
   "execution_count": 17,
   "metadata": {},
   "outputs": [],
   "source": [
    "# Function to get all recommedations for a user\n",
    "def get_all_recommendations(userID, user_movies_matrix, top_k=10):\n",
    "    content_based_recommendations = get_content_based_recommendations(userID, user_movies_matrix, top_k)\n",
    "    demographic_based_recommendations = get_demographic_based_recommendations(userID, user_movies_matrix, top_k)\n",
    "\n",
    "    # Merge the two recommendation lists\n",
    "    all_recommendations = content_based_recommendations + demographic_based_recommendations\n",
    "\n",
    "    # Remove duplicates from the list\n",
    "    all_recommendations = list(set(all_recommendations))\n",
    "\n",
    "    return all_recommendations"
   ]
  },
  {
   "cell_type": "code",
   "execution_count": 18,
   "metadata": {},
   "outputs": [
    {
     "name": "stdout",
     "output_type": "stream",
     "text": [
      "['Full Monty, The (1997)', 'Godfather, The (1972)', 'Run of the Country, The (1995)', 'French Twist (Gazon maudit) (1995)', 'Professional, The (1994)', 'Wife, The (1995)', 'Man of the House (1995)', 'Man of the Year (1995)', 'Nikita (La Femme Nikita) (1990)', 'When Harry Met Sally... (1989)', 'Ghost and the Darkness, The (1996)', 'Graduate, The (1967)', 'Gattaca (1997)', 'Quick and the Dead, The (1995)', 'Show, The (1995)', 'Aliens (1986)', 'Remains of the Day, The (1993)', 'Last of the Mohicans, The (1992)', 'Amadeus (1984)']\n"
     ]
    }
   ],
   "source": [
    "# Example\n",
    "userId = 1\n",
    "recommendations = get_all_recommendations(userId, user_item_movies)\n",
    "print(recommendations)"
   ]
  },
  {
   "cell_type": "markdown",
   "metadata": {},
   "source": [
    "# Evaluation"
   ]
  },
  {
   "cell_type": "code",
   "execution_count": 19,
   "metadata": {},
   "outputs": [],
   "source": [
    "from sklearn.metrics import mean_squared_error\n",
    "from math import sqrt\n",
    "\n",
    "test_data = pd.read_csv('../data/raw/ml-100k/u1.test', sep='\\t', names=['user_id', 'item_id', 'rating', 'timestamp'])\n",
    "\n",
    "# Function to calculate MSE and RMSE\n",
    "def evaluate_recommender(recommender_func, user_movies_matrix, test_data):\n",
    "    predicted_ratings = []\n",
    "    actual_ratings = []\n",
    "\n",
    "    for _, row in test_data.iterrows():\n",
    "        user_id, item_id, actual_rating, _ = row\n",
    "        recommended_movies = recommender_func(user_id, user_movies_matrix)\n",
    "\n",
    "        # Check if the recommended movie is in the test set\n",
    "        if item_id in recommended_movies:\n",
    "            predicted_ratings.append(1)  # Recommended\n",
    "        else:\n",
    "            predicted_ratings.append(0)  # Not recommended\n",
    "\n",
    "        actual_ratings.append(actual_rating)\n",
    "\n",
    "    mse = mean_squared_error(actual_ratings, predicted_ratings)\n",
    "    rmse = sqrt(mse)\n",
    "\n",
    "    return mse, rmse"
   ]
  },
  {
   "cell_type": "code",
   "execution_count": 20,
   "metadata": {},
   "outputs": [
    {
     "name": "stdout",
     "output_type": "stream",
     "text": [
      "Mean Squared Error (MSE): 2.4435\n",
      "Root Mean Squared Error (RMSE): 1.56316985641\n"
     ]
    }
   ],
   "source": [
    "# Evaluate the recommender system\n",
    "mse, rmse = evaluate_recommender(get_all_recommendations, user_item_movies, test_data)\n",
    "print(f'Mean Squared Error (MSE): {mse}')\n",
    "print(f'Root Mean Squared Error (RMSE): {rmse}')"
   ]
  }
 ],
 "metadata": {
  "kernelspec": {
   "display_name": "Python 3",
   "language": "python",
   "name": "python3"
  },
  "language_info": {
   "codemirror_mode": {
    "name": "ipython",
    "version": 3
   },
   "file_extension": ".py",
   "mimetype": "text/x-python",
   "name": "python",
   "nbconvert_exporter": "python",
   "pygments_lexer": "ipython3",
   "version": "3.9.13"
  }
 },
 "nbformat": 4,
 "nbformat_minor": 2
}
